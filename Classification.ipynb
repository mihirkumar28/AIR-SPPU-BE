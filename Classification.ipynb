{
  "nbformat": 4,
  "nbformat_minor": 0,
  "metadata": {
    "colab": {
      "name": "DA C-2.ipynb",
      "provenance": [],
      "authorship_tag": "ABX9TyPmdGG7vOQwhBIS1WvLLzpF",
      "include_colab_link": true
    },
    "kernelspec": {
      "name": "python3",
      "display_name": "Python 3"
    }
  },
  "cells": [
    {
      "cell_type": "markdown",
      "metadata": {
        "id": "view-in-github",
        "colab_type": "text"
      },
      "source": [
        "<a href=\"https://colab.research.google.com/github/mihirkumar28/AIR-SPPU-BE/blob/main/Classification.ipynb\" target=\"_parent\"><img src=\"https://colab.research.google.com/assets/colab-badge.svg\" alt=\"Open In Colab\"/></a>"
      ]
    },
    {
      "cell_type": "code",
      "metadata": {
        "id": "ja4-HmUYKmb0"
      },
      "source": [
        "import pandas as pd\n",
        "import matplotlib.pyplot as plt\n",
        "import seaborn as sns\n",
        "from sklearn.metrics import confusion_matrix, classification_report, accuracy_score\n",
        "from sklearn.model_selection import train_test_split\n",
        "from sklearn.naive_bayes import GaussianNB\n",
        "from sklearn.linear_model import LogisticRegression\n",
        "from sklearn.tree import DecisionTreeClassifier\n",
        "from sklearn.neighbors import KNeighborsClassifier"
      ],
      "execution_count": 10,
      "outputs": []
    },
    {
      "cell_type": "code",
      "metadata": {
        "id": "Kml2tPQRLn4I",
        "colab": {
          "base_uri": "https://localhost:8080/"
        },
        "outputId": "7c91be78-16b0-4aa5-b18b-a121a99c5b98"
      },
      "source": [
        "from google.colab import drive\n",
        "drive.mount(\"/content/gdrive\")"
      ],
      "execution_count": 2,
      "outputs": [
        {
          "output_type": "stream",
          "text": [
            "Mounted at /content/gdrive\n"
          ],
          "name": "stdout"
        }
      ]
    },
    {
      "cell_type": "code",
      "metadata": {
        "id": "HEyIDudlKs6g",
        "colab": {
          "base_uri": "https://localhost:8080/",
          "height": 1000
        },
        "outputId": "4559a38f-7663-4a59-acd8-de1b4b56dfa0"
      },
      "source": [
        "from sklearn import datasets\n",
        "import numpy as np\n",
        "import matplotlib.pyplot as plt\n",
        "import seaborn as sns\n",
        "%matplotlib inline\n",
        "\n",
        "datamatrix = pd.read_csv('/content/gdrive/My Drive/diabetes.csv')\n",
        " \n",
        "def classify(clf,classifier_type):\n",
        "  X = datamatrix.iloc[:,:-1]\n",
        "  Y = datamatrix.iloc[:,-1]\n",
        "    \n",
        "  X_Train, X_Test, Y_Train, Y_Test = train_test_split(X, Y, test_size = 0.3, random_state = 37)\n",
        "    \n",
        "  clf.fit(X_Train,Y_Train)\n",
        "    \n",
        "  y_hc = clf.predict(X_Test)\n",
        "  print(\"Classifier : \" + classifier_type + \"\\n\\n\")\n",
        "  print(\"================================================\\n\")\n",
        "  print(classification_report(Y_Test,y_hc))\n",
        "  print(\"\\n================================================\\n\")\n",
        "\n",
        "  cm = confusion_matrix(Y_Test,y_hc)\n",
        "  fig = sns.heatmap(cm,annot = True)\n",
        "  plt.show()\n",
        "  \n",
        "    \n",
        " \n",
        "classify(GaussianNB(),\"Naive Bayes\")\n",
        "classify(LogisticRegression(),\"Logistic Regression\")\n",
        "classify(DecisionTreeClassifier(random_state = 37),\"Decision Tree\")\n",
        "classify(KNeighborsClassifier(),\"KNN\")"
      ],
      "execution_count": 11,
      "outputs": [
        {
          "output_type": "stream",
          "text": [
            "Classifier : Naive Bayes\n",
            "\n",
            "\n",
            "================================================\n",
            "\n",
            "              precision    recall  f1-score   support\n",
            "\n",
            "           0       0.80      0.85      0.82       151\n",
            "           1       0.67      0.59      0.63        80\n",
            "\n",
            "    accuracy                           0.76       231\n",
            "   macro avg       0.73      0.72      0.72       231\n",
            "weighted avg       0.75      0.76      0.75       231\n",
            "\n",
            "\n",
            "================================================\n",
            "\n"
          ],
          "name": "stdout"
        },
        {
          "output_type": "display_data",
          "data": {
            "image/png": "[encoded data removed]",
            "text/plain": [
              "<Figure size 432x288 with 2 Axes>"
            ]
          },
          "metadata": {
            "tags": [],
            "needs_background": "light"
          }
        },
        {
          "output_type": "stream",
          "text": [
            "Classifier : Logistic Regression\n",
            "\n",
            "\n",
            "================================================\n",
            "\n",
            "              precision    recall  f1-score   support\n",
            "\n",
            "           0       0.80      0.90      0.85       151\n",
            "           1       0.75      0.57      0.65        80\n",
            "\n",
            "    accuracy                           0.79       231\n",
            "   macro avg       0.78      0.74      0.75       231\n",
            "weighted avg       0.78      0.79      0.78       231\n",
            "\n",
            "\n",
            "================================================\n",
            "\n"
          ],
          "name": "stdout"
        },
        {
          "output_type": "stream",
          "text": [
            "/usr/local/lib/python3.6/dist-packages/sklearn/linear_model/_logistic.py:940: ConvergenceWarning: lbfgs failed to converge (status=1):\n",
            "STOP: TOTAL NO. of ITERATIONS REACHED LIMIT.\n",
            "\n",
            "Increase the number of iterations (max_iter) or scale the data as shown in:\n",
            "    https://scikit-learn.org/stable/modules/preprocessing.html\n",
            "Please also refer to the documentation for alternative solver options:\n",
            "    https://scikit-learn.org/stable/modules/linear_model.html#logistic-regression\n",
            "  extra_warning_msg=_LOGISTIC_SOLVER_CONVERGENCE_MSG)\n"
          ],
          "name": "stderr"
        },
        {
          "output_type": "display_data",
          "data": {
            "image/png": "[encoded data removed]",
            "text/plain": [
              "<Figure size 432x288 with 2 Axes>"
            ]
          },
          "metadata": {
            "tags": [],
            "needs_background": "light"
          }
        },
        {
          "output_type": "stream",
          "text": [
            "Classifier : Decision Tree\n",
            "\n",
            "\n",
            "================================================\n",
            "\n",
            "              precision    recall  f1-score   support\n",
            "\n",
            "           0       0.73      0.72      0.72       151\n",
            "           1       0.48      0.50      0.49        80\n",
            "\n",
            "    accuracy                           0.64       231\n",
            "   macro avg       0.61      0.61      0.61       231\n",
            "weighted avg       0.64      0.64      0.64       231\n",
            "\n",
            "\n",
            "================================================\n",
            "\n"
          ],
          "name": "stdout"
        },
        {
          "output_type": "display_data",
          "data": {
            "image/png": "[encoded data removed]",
            "text/plain": [
              "<Figure size 432x288 with 2 Axes>"
            ]
          },
          "metadata": {
            "tags": [],
            "needs_background": "light"
          }
        },
        {
          "output_type": "stream",
          "text": [
            "Classifier : KNN\n",
            "\n",
            "\n",
            "================================================\n",
            "\n",
            "              precision    recall  f1-score   support\n",
            "\n",
            "           0       0.79      0.83      0.81       151\n",
            "           1       0.65      0.59      0.62        80\n",
            "\n",
            "    accuracy                           0.75       231\n",
            "   macro avg       0.72      0.71      0.72       231\n",
            "weighted avg       0.74      0.75      0.75       231\n",
            "\n",
            "\n",
            "================================================\n",
            "\n"
          ],
          "name": "stdout"
        },
        {
          "output_type": "display_data",
          "data": {
            "image/png": "[encoded data removed]",
            "text/plain": [
              "<Figure size 432x288 with 2 Axes>"
            ]
          },
          "metadata": {
            "tags": [],
            "needs_background": "light"
          }
        }
      ]
    },
    {
      "cell_type": "code",
      "metadata": {
        "id": "0Git9U5iP2_I"
      },
      "source": [
        ""
      ],
      "execution_count": null,
      "outputs": []
    }
  ]
}